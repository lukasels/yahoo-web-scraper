{
 "cells": [
  {
   "cell_type": "code",
   "execution_count": 1,
   "metadata": {
    "pycharm": {
     "is_executing": false
    }
   },
   "outputs": [],
   "source": [
    "import pandas as pd\n",
    "from bs4 import BeautifulSoup\n",
    "from selenium import webdriver\n",
    "from datetime import datetime\n",
    "import numpy as np\n",
    "from time import sleep\n",
    "import multiprocessing as mp"
   ]
  },
  {
   "cell_type": "code",
   "execution_count": 2,
   "metadata": {
    "pycharm": {
     "is_executing": false
    }
   },
   "outputs": [],
   "source": [
    "## Extract the index companies"
   ]
  },
  {
   "cell_type": "code",
   "execution_count": 3,
   "metadata": {
    "pycharm": {
     "is_executing": false
    }
   },
   "outputs": [],
   "source": [
    "# Scrape for the companies\n",
    "def scrape_index_companies(link):\n",
    "    driver = webdriver.Chrome(executable_path='chromedriver_path')\n",
    "    driver.get(link)\n",
    "    html = driver.execute_script('return document.body.innerHTML;')\n",
    "    soup = BeautifulSoup(html,'lxml')\n",
    "    features = soup.find_all('tr', class_='Ta(end)')\n",
    "    driver.quit()\n",
    "    return features"
   ]
  },
  {
   "cell_type": "code",
   "execution_count": 4,
   "metadata": {
    "pycharm": {
     "is_executing": false
    }
   },
   "outputs": [],
   "source": [
    "# Create a data frame with the companies \n",
    "def create_companies_df(features):\n",
    "    headers = []\n",
    "    temp_list = []\n",
    "    label_list = []\n",
    "    final = []\n",
    "    index = 0\n",
    "    #create headers\n",
    "    for item in features[0].find_all('th', class_='Ta(start)'):\n",
    "        headers.append(item.text)\n",
    "\n",
    "    #statement contents\n",
    "    while index <= len(features)-1:\n",
    "        #filter for each line of the statement\n",
    "        temp = features[index].find_all('td', class_='Ta(start)')\n",
    "        for line in temp:\n",
    "            #each item adding to a temporary list\n",
    "            temp_list.append(line.text)\n",
    "        #temp_list added to final list\n",
    "        final.append(temp_list)\n",
    "        #clear temp_list\n",
    "        temp_list = []\n",
    "        index+=1\n",
    "    companies_df = pd.DataFrame(final[1:])\n",
    "    companies_df.columns = headers\n",
    "    return companies_df"
   ]
  },
  {
   "cell_type": "code",
   "execution_count": 5,
   "metadata": {
    "pycharm": {
     "is_executing": false
    }
   },
   "outputs": [],
   "source": [
    "## Scrape the single companies in the index"
   ]
  },
  {
   "cell_type": "code",
   "execution_count": 6,
   "metadata": {
    "pycharm": {
     "is_executing": false
    }
   },
   "outputs": [],
   "source": [
    "# Driver setup for the single company scrape\n",
    "def driver_setup(link):\n",
    "    ERROR = True\n",
    "    \n",
    "    options = webdriver.ChromeOptions()\n",
    "    options.add_argument('incognito')\n",
    "    options.add_argument('--window-size=800,600')\n",
    "    options.add_argument('disable-popup-blocking')\n",
    "    driver = webdriver.Chrome(options = options, executable_path='chromedriver_path')\n",
    "    driver.create_options()\n",
    "    driver.get(link)\n",
    "    while ERROR == True:\n",
    "        html = driver.execute_script('return document.body.innerHTML;')\n",
    "        soup = BeautifulSoup(html,'lxml')\n",
    "        try:\n",
    "            driver.find_element_by_id('header-logo')\n",
    "            ERROR = False\n",
    "            features = soup.find_all('div', class_='D(tbr)')\n",
    "            driver.quit()\n",
    "        except (NoSuchElementException, WebDriverException) as e:\n",
    "            sleep(30)\n",
    "            driver.refresh()\n",
    "    return features"
   ]
  },
  {
   "cell_type": "code",
   "execution_count": 7,
   "metadata": {
    "pycharm": {
     "is_executing": false
    }
   },
   "outputs": [],
   "source": [
    "# Create a data frame with the html\n",
    "def create_dataframe(features_of_company):\n",
    "    headers = []\n",
    "    temp_list = []\n",
    "    label_list = []\n",
    "    final = []\n",
    "    index = 0\n",
    "    #create headers\n",
    "    for item in features_of_company[0].find_all('div', class_='D(ib)'):\n",
    "        try:\n",
    "            dt = datetime.strptime(item.text, '%m/%d/%Y')\n",
    "            headers.append('year_'+str(dt.year))\n",
    "        except:\n",
    "            headers.append(item.text)\n",
    "\n",
    "    #statement contents\n",
    "    while index <= len(features_of_company)-1:\n",
    "        #filter for each line of the statement\n",
    "        temp = features_of_company[index].find_all('div', class_='D(tbc)')\n",
    "        for line in temp:\n",
    "            #each item adding to a temporary list\n",
    "            temp_list.append(line.text)\n",
    "        #temp_list added to final list\n",
    "        final.append(temp_list)\n",
    "        #clear temp_list\n",
    "        temp_list = []\n",
    "        index+=1\n",
    "    df = pd.DataFrame(final[1:])\n",
    "    headers[1] = 'year_ttm'\n",
    "    df.columns = headers\n",
    "    return df"
   ]
  },
  {
   "cell_type": "code",
   "execution_count": 8,
   "metadata": {
    "pycharm": {
     "is_executing": false
    }
   },
   "outputs": [],
   "source": [
    "#uses previous methods to create a dataframe with the financial information of a single index company\n",
    "def clean_dataframe(symbol):\n",
    "    company_link = 'https://finance.yahoo.com/quote/{}/financials'.format(symbol)\n",
    "    #sleep(randint(5,50))\n",
    "    features = driver_setup(company_link)\n",
    "    company__financials_df = create_dataframe(features)\n",
    "    company__financials_df = pd.wide_to_long(company__financials_df, ['year_'], i='Breakdown', j='year', suffix='(\\d+|\\w+)')\n",
    "    company__financials_df = company__financials_df.reset_index(level=[0,1])\n",
    "    company__financials_df.insert(loc=0, column='Company', value=symbol)\n",
    "    return company__financials_df"
   ]
  },
  {
   "cell_type": "code",
   "execution_count": 9,
   "metadata": {
    "pycharm": {
     "is_executing": false
    }
   },
   "outputs": [],
   "source": [
    "## Data Clean medium: '-' are included and columns all have object dtype"
   ]
  },
  {
   "cell_type": "code",
   "execution_count": 10,
   "metadata": {
    "pycharm": {
     "is_executing": false
    }
   },
   "outputs": [],
   "source": [
    "#function that removes commas and makes all values numerical\n",
    "def convert_to_numeric(column):\n",
    "    uncleaned_df = [i.replace(',','') for i in column]\n",
    "    return uncleaned_df\n",
    "\n",
    "#function that removes commas in the whole df AND fills NaN with '-'\n",
    "def convert_dataframe_to_numeric(uncleaned_df):\n",
    "    for column in list(uncleaned_df.columns[2:]):\n",
    "        uncleaned_df[column] = convert_to_numeric(uncleaned_df[column])\n",
    "    processed_df = uncleaned_df.fillna('-')\n",
    "    return processed_df\n",
    "\n",
    "#renames the columns\n",
    "def rename_columns(uncleaned_df):\n",
    "    uncleaned_df = uncleaned_df.sort_values(by=['Breakdown', 'year'])\n",
    "    uncleaned_df.rename(columns={'year_':'Values'}, inplace=True)\n",
    "    uncleaned_df.rename(columns={'year':'Year'}, inplace=True)\n",
    "    return uncleaned_df\n",
    "\n",
    "#uses previous functions to clean the dataframe\n",
    "def clean_data(initial_df):\n",
    "    processed_df = convert_dataframe_to_numeric(initial_df)\n",
    "    cleaned_df = rename_columns(initial_df)\n",
    "    return cleaned_df"
   ]
  },
  {
   "cell_type": "code",
   "execution_count": 11,
   "metadata": {
    "pycharm": {
     "is_executing": false
    }
   },
   "outputs": [],
   "source": [
    "## Data Clean final: removed '-' and reformat columns"
   ]
  },
  {
   "cell_type": "code",
   "execution_count": 12,
   "metadata": {
    "pycharm": {
     "is_executing": false
    }
   },
   "outputs": [],
   "source": [
    "## Returns two dataframes, one with all ttm values and another with the remaining values and formated columns\n",
    "def final_clean(cleaned_df):\n",
    "    #Replacing of '-'\n",
    "    cleaned_df['Values'] = cleaned_df['Values'].replace('-', np.nan)\n",
    "    cleaned_df = cleaned_df.dropna()\n",
    "    cleaned_df = cleaned_df.reset_index(drop=True)\n",
    "    \n",
    "    #Seperate ttm in new dataframe\n",
    "    cleaned_ttm = cleaned_df.loc[cleaned_df['Year'] == 'ttm']\n",
    "    final_ttm = cleaned_ttm.reset_index(drop=True)\n",
    "    \n",
    "    #Removing ttm\n",
    "    cleaned_df = cleaned_df.drop(cleaned_df[cleaned_df['Year'] == 'ttm'].index)\n",
    "    cleaned_df = cleaned_df.reset_index(drop=True)\n",
    "    \n",
    "    #Reformat datatypes for columns\n",
    "    cleaned_df['Year'] = cleaned_df['Year'].astype('int64')\n",
    "    cleaned_df['Values'] = cleaned_df['Values'].astype('float')\n",
    "    final_df = cleaned_df\n",
    "    \n",
    "    return final_df, final_ttm"
   ]
  },
  {
   "cell_type": "code",
   "execution_count": 14,
   "metadata": {
    "pycharm": {
     "is_executing": false
    }
   },
   "outputs": [
    {
     "traceback": [
      "\u001b[0;31m---------------------------------------------------------------------------\u001b[0m",
      "\u001b[0;31mIndexError\u001b[0m                                Traceback (most recent call last)",
      "\u001b[0;32m<ipython-input-14-52c0ca2c51d8>\u001b[0m in \u001b[0;36m<module>\u001b[0;34m\u001b[0m\n\u001b[1;32m      2\u001b[0m     \u001b[0mlink\u001b[0m \u001b[0;34m=\u001b[0m \u001b[0;34m'https://finance.yahoo.com/quote/%5EDJI/components'\u001b[0m\u001b[0;34m\u001b[0m\u001b[0;34m\u001b[0m\u001b[0m\n\u001b[1;32m      3\u001b[0m     \u001b[0mfeatures\u001b[0m \u001b[0;34m=\u001b[0m \u001b[0mscrape_index_companies\u001b[0m\u001b[0;34m(\u001b[0m\u001b[0mlink\u001b[0m\u001b[0;34m)\u001b[0m\u001b[0;34m\u001b[0m\u001b[0;34m\u001b[0m\u001b[0m\n\u001b[0;32m----> 4\u001b[0;31m     \u001b[0mcompanies_df\u001b[0m \u001b[0;34m=\u001b[0m \u001b[0mcreate_companies_df\u001b[0m\u001b[0;34m(\u001b[0m\u001b[0mfeatures\u001b[0m\u001b[0;34m)\u001b[0m\u001b[0;34m\u001b[0m\u001b[0;34m\u001b[0m\u001b[0m\n\u001b[0m\u001b[1;32m      5\u001b[0m     \u001b[0mcompanies\u001b[0m \u001b[0;34m=\u001b[0m \u001b[0mcompanies_df\u001b[0m\u001b[0;34m.\u001b[0m\u001b[0miloc\u001b[0m\u001b[0;34m[\u001b[0m\u001b[0;36m0\u001b[0m\u001b[0;34m:\u001b[0m\u001b[0;34m,\u001b[0m\u001b[0;36m0\u001b[0m\u001b[0;34m]\u001b[0m\u001b[0;34m\u001b[0m\u001b[0;34m\u001b[0m\u001b[0m\n\u001b[1;32m      6\u001b[0m     \u001b[0mpool\u001b[0m \u001b[0;34m=\u001b[0m \u001b[0mmp\u001b[0m\u001b[0;34m.\u001b[0m\u001b[0mPool\u001b[0m\u001b[0;34m(\u001b[0m\u001b[0mmp\u001b[0m\u001b[0;34m.\u001b[0m\u001b[0mcpu_count\u001b[0m\u001b[0;34m(\u001b[0m\u001b[0;34m)\u001b[0m\u001b[0;34m-\u001b[0m\u001b[0;36m1\u001b[0m\u001b[0;34m)\u001b[0m\u001b[0;34m\u001b[0m\u001b[0;34m\u001b[0m\u001b[0m\n",
      "\u001b[0;32m<ipython-input-4-ba70439af87a>\u001b[0m in \u001b[0;36mcreate_companies_df\u001b[0;34m(features)\u001b[0m\n\u001b[1;32m      7\u001b[0m     \u001b[0mindex\u001b[0m \u001b[0;34m=\u001b[0m \u001b[0;36m0\u001b[0m\u001b[0;34m\u001b[0m\u001b[0;34m\u001b[0m\u001b[0m\n\u001b[1;32m      8\u001b[0m     \u001b[0;31m#create headers\u001b[0m\u001b[0;34m\u001b[0m\u001b[0;34m\u001b[0m\u001b[0;34m\u001b[0m\u001b[0m\n\u001b[0;32m----> 9\u001b[0;31m     \u001b[0;32mfor\u001b[0m \u001b[0mitem\u001b[0m \u001b[0;32min\u001b[0m \u001b[0mfeatures\u001b[0m\u001b[0;34m[\u001b[0m\u001b[0;36m0\u001b[0m\u001b[0;34m]\u001b[0m\u001b[0;34m.\u001b[0m\u001b[0mfind_all\u001b[0m\u001b[0;34m(\u001b[0m\u001b[0;34m'th'\u001b[0m\u001b[0;34m,\u001b[0m \u001b[0mclass_\u001b[0m\u001b[0;34m=\u001b[0m\u001b[0;34m'Ta(start)'\u001b[0m\u001b[0;34m)\u001b[0m\u001b[0;34m:\u001b[0m\u001b[0;34m\u001b[0m\u001b[0;34m\u001b[0m\u001b[0m\n\u001b[0m\u001b[1;32m     10\u001b[0m         \u001b[0mheaders\u001b[0m\u001b[0;34m.\u001b[0m\u001b[0mappend\u001b[0m\u001b[0;34m(\u001b[0m\u001b[0mitem\u001b[0m\u001b[0;34m.\u001b[0m\u001b[0mtext\u001b[0m\u001b[0;34m)\u001b[0m\u001b[0;34m\u001b[0m\u001b[0;34m\u001b[0m\u001b[0m\n\u001b[1;32m     11\u001b[0m \u001b[0;34m\u001b[0m\u001b[0m\n",
      "\u001b[0;31mIndexError\u001b[0m: list index out of range"
     ],
     "ename": "IndexError",
     "evalue": "list index out of range",
     "output_type": "error"
    }
   ],
   "source": [
    "if __name__ == '__main__':\n",
    "    #Components link (Example): https://finance.yahoo.com/quote/%5EDJI/components\n",
    "    link = 'components_link'\n",
    "    features = scrape_index_companies(link)\n",
    "    companies_df = create_companies_df(features)\n",
    "    companies = companies_df.iloc[0:,0]\n",
    "    pool = mp.Pool(mp.cpu_count()-1)\n",
    "    \n",
    "    split_ratio = list(range(0, len(companies)+1, 5))\n",
    "    \n",
    "    index_df_split_1 = pd.concat(pool.map(clean_dataframe, companies[0:split_ratio[1]]))\n",
    "    index_df_split_2 = pd.concat(pool.map(clean_dataframe, companies[split_ratio[1]:split_ratio[2]]))\n",
    "    index_df_split_3 = pd.concat(pool.map(clean_dataframe, companies[split_ratio[2]:split_ratio[3]]))\n",
    "    index_df_split_4 = pd.concat(pool.map(clean_dataframe, companies[split_ratio[3]:split_ratio[4]]))\n",
    "    index_df_split_5 = pd.concat(pool.map(clean_dataframe, companies[split_ratio[4]:split_ratio[5]]))\n",
    "    index_df_split_6 = pd.concat(pool.map(clean_dataframe, companies[split_ratio[5]:split_ratio[6]]))\n",
    "    \n",
    "    index_df = pd.concat([index_df_split_1,index_df_split_2,index_df_split_3,index_df_split_4,index_df_split_5, index_df_split_6])\n",
    "    \n",
    "    pool.terminate()\n",
    "    pool.join()\n",
    "    clean_df = clean_data(index_df)\n",
    "    final_df, final_ttm = final_clean(clean_df)"
   ]
  },
  {
   "cell_type": "code",
   "execution_count": null,
   "metadata": {
    "pycharm": {
     "is_executing": false
    }
   },
   "outputs": [],
   "source": [
    "#final_df"
   ]
  },
  {
   "cell_type": "code",
   "execution_count": null,
   "metadata": {
    "pycharm": {
     "is_executing": false
    }
   },
   "outputs": [],
   "source": [
    "#final_ttm"
   ]
  },
  {
   "cell_type": "code",
   "execution_count": null,
   "metadata": {
    "pycharm": {
     "is_executing": false
    }
   },
   "outputs": [],
   "source": [
    "#final_df.to_csv('Index.csv', index=False)"
   ]
  }
 ],
 "metadata": {
  "kernelspec": {
   "display_name": "Python 3",
   "language": "python",
   "name": "python3"
  },
  "language_info": {
   "codemirror_mode": {
    "name": "ipython",
    "version": 3
   },
   "file_extension": ".py",
   "mimetype": "text/x-python",
   "name": "python",
   "nbconvert_exporter": "python",
   "pygments_lexer": "ipython3",
   "version": "3.7.4"
  },
  "pycharm": {
   "stem_cell": {
    "cell_type": "raw",
    "source": [],
    "metadata": {
     "collapsed": false
    }
   }
  }
 },
 "nbformat": 4,
 "nbformat_minor": 1
}